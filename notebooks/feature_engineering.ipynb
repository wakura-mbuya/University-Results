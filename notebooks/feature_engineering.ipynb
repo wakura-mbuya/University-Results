{
 "cells": [
  {
   "cell_type": "markdown",
   "metadata": {},
   "source": [
    "## Feature Engineering and Modelling\n",
    "In this notebook, I will conduct feature engineering to select the best features from the dataset to be used to predict the student's performance. From the selected features, I will train machine learning models to be used to predict the students' performance."
   ]
  },
  {
   "cell_type": "code",
   "execution_count": 2,
   "metadata": {},
   "outputs": [],
   "source": [
    "# import necessary libraries and modules\n",
    "import sys\n",
    "import pickle\n",
    "import numpy as np\n",
    "import pandas as pd\n",
    "import seaborn as sns\n",
    "from sklearn import metrics \n",
    "import matplotlib.pyplot as plt\n",
    "from sklearn.naive_bayes import BernoulliNB\n",
    "from sklearn.ensemble import RandomForestClassifier\n",
    "from sklearn.linear_model import LogisticRegression\n",
    "from sklearn.model_selection import train_test_split\n",
    "from sklearn.feature_selection import SelectPercentile as SP"
   ]
  },
  {
   "cell_type": "code",
   "execution_count": 26,
   "metadata": {},
   "outputs": [
    {
     "data": {
      "text/html": [
       "<div>\n",
       "<style scoped>\n",
       "    .dataframe tbody tr th:only-of-type {\n",
       "        vertical-align: middle;\n",
       "    }\n",
       "\n",
       "    .dataframe tbody tr th {\n",
       "        vertical-align: top;\n",
       "    }\n",
       "\n",
       "    .dataframe thead th {\n",
       "        text-align: right;\n",
       "    }\n",
       "</style>\n",
       "<table border=\"1\" class=\"dataframe\">\n",
       "  <thead>\n",
       "    <tr style=\"text-align: right;\">\n",
       "      <th></th>\n",
       "      <th>STUDENTID</th>\n",
       "      <th>AGE</th>\n",
       "      <th>GENDER</th>\n",
       "      <th>HS_TYPE</th>\n",
       "      <th>SCHOLARSHIP</th>\n",
       "      <th>WORK</th>\n",
       "      <th>ACTIVITY</th>\n",
       "      <th>PARTNER</th>\n",
       "      <th>SALARY</th>\n",
       "      <th>TRANSPORT</th>\n",
       "      <th>...</th>\n",
       "      <th>PREP_STUDY</th>\n",
       "      <th>PREP_EXAM</th>\n",
       "      <th>NOTES</th>\n",
       "      <th>LISTENS</th>\n",
       "      <th>LIKES_DISCUSS</th>\n",
       "      <th>CLASSROOM</th>\n",
       "      <th>CUML_GPA</th>\n",
       "      <th>EXP_GPA</th>\n",
       "      <th>COURSE ID</th>\n",
       "      <th>GRADE</th>\n",
       "    </tr>\n",
       "  </thead>\n",
       "  <tbody>\n",
       "    <tr>\n",
       "      <th>0</th>\n",
       "      <td>STUDENT1</td>\n",
       "      <td>2</td>\n",
       "      <td>2</td>\n",
       "      <td>3</td>\n",
       "      <td>3</td>\n",
       "      <td>1</td>\n",
       "      <td>2</td>\n",
       "      <td>2</td>\n",
       "      <td>1</td>\n",
       "      <td>1</td>\n",
       "      <td>...</td>\n",
       "      <td>1</td>\n",
       "      <td>1</td>\n",
       "      <td>3</td>\n",
       "      <td>2</td>\n",
       "      <td>1</td>\n",
       "      <td>2</td>\n",
       "      <td>1</td>\n",
       "      <td>1</td>\n",
       "      <td>1</td>\n",
       "      <td>1</td>\n",
       "    </tr>\n",
       "    <tr>\n",
       "      <th>1</th>\n",
       "      <td>STUDENT2</td>\n",
       "      <td>2</td>\n",
       "      <td>2</td>\n",
       "      <td>3</td>\n",
       "      <td>3</td>\n",
       "      <td>1</td>\n",
       "      <td>2</td>\n",
       "      <td>2</td>\n",
       "      <td>1</td>\n",
       "      <td>1</td>\n",
       "      <td>...</td>\n",
       "      <td>1</td>\n",
       "      <td>1</td>\n",
       "      <td>3</td>\n",
       "      <td>2</td>\n",
       "      <td>3</td>\n",
       "      <td>2</td>\n",
       "      <td>2</td>\n",
       "      <td>3</td>\n",
       "      <td>1</td>\n",
       "      <td>1</td>\n",
       "    </tr>\n",
       "    <tr>\n",
       "      <th>2</th>\n",
       "      <td>STUDENT3</td>\n",
       "      <td>2</td>\n",
       "      <td>2</td>\n",
       "      <td>2</td>\n",
       "      <td>3</td>\n",
       "      <td>2</td>\n",
       "      <td>2</td>\n",
       "      <td>2</td>\n",
       "      <td>2</td>\n",
       "      <td>4</td>\n",
       "      <td>...</td>\n",
       "      <td>1</td>\n",
       "      <td>1</td>\n",
       "      <td>2</td>\n",
       "      <td>2</td>\n",
       "      <td>1</td>\n",
       "      <td>1</td>\n",
       "      <td>2</td>\n",
       "      <td>2</td>\n",
       "      <td>1</td>\n",
       "      <td>1</td>\n",
       "    </tr>\n",
       "    <tr>\n",
       "      <th>3</th>\n",
       "      <td>STUDENT4</td>\n",
       "      <td>1</td>\n",
       "      <td>1</td>\n",
       "      <td>1</td>\n",
       "      <td>3</td>\n",
       "      <td>1</td>\n",
       "      <td>2</td>\n",
       "      <td>1</td>\n",
       "      <td>2</td>\n",
       "      <td>1</td>\n",
       "      <td>...</td>\n",
       "      <td>1</td>\n",
       "      <td>2</td>\n",
       "      <td>3</td>\n",
       "      <td>2</td>\n",
       "      <td>2</td>\n",
       "      <td>1</td>\n",
       "      <td>3</td>\n",
       "      <td>2</td>\n",
       "      <td>1</td>\n",
       "      <td>1</td>\n",
       "    </tr>\n",
       "    <tr>\n",
       "      <th>4</th>\n",
       "      <td>STUDENT5</td>\n",
       "      <td>2</td>\n",
       "      <td>2</td>\n",
       "      <td>1</td>\n",
       "      <td>3</td>\n",
       "      <td>2</td>\n",
       "      <td>2</td>\n",
       "      <td>1</td>\n",
       "      <td>3</td>\n",
       "      <td>1</td>\n",
       "      <td>...</td>\n",
       "      <td>2</td>\n",
       "      <td>1</td>\n",
       "      <td>2</td>\n",
       "      <td>2</td>\n",
       "      <td>2</td>\n",
       "      <td>1</td>\n",
       "      <td>2</td>\n",
       "      <td>2</td>\n",
       "      <td>1</td>\n",
       "      <td>1</td>\n",
       "    </tr>\n",
       "  </tbody>\n",
       "</table>\n",
       "<p>5 rows × 33 columns</p>\n",
       "</div>"
      ],
      "text/plain": [
       "  STUDENTID  AGE  GENDER  HS_TYPE  SCHOLARSHIP  WORK  ACTIVITY  PARTNER  \\\n",
       "0  STUDENT1    2       2        3            3     1         2        2   \n",
       "1  STUDENT2    2       2        3            3     1         2        2   \n",
       "2  STUDENT3    2       2        2            3     2         2        2   \n",
       "3  STUDENT4    1       1        1            3     1         2        1   \n",
       "4  STUDENT5    2       2        1            3     2         2        1   \n",
       "\n",
       "   SALARY  TRANSPORT  ...  PREP_STUDY  PREP_EXAM  NOTES  LISTENS  \\\n",
       "0       1          1  ...           1          1      3        2   \n",
       "1       1          1  ...           1          1      3        2   \n",
       "2       2          4  ...           1          1      2        2   \n",
       "3       2          1  ...           1          2      3        2   \n",
       "4       3          1  ...           2          1      2        2   \n",
       "\n",
       "   LIKES_DISCUSS  CLASSROOM  CUML_GPA  EXP_GPA  COURSE ID  GRADE  \n",
       "0              1          2         1        1          1      1  \n",
       "1              3          2         2        3          1      1  \n",
       "2              1          1         2        2          1      1  \n",
       "3              2          1         3        2          1      1  \n",
       "4              2          1         2        2          1      1  \n",
       "\n",
       "[5 rows x 33 columns]"
      ]
     },
     "execution_count": 26,
     "metadata": {},
     "output_type": "execute_result"
    }
   ],
   "source": [
    "# Read the dataset from the file into a pd dataframe\n",
    "sys.path.append('../')\n",
    "results = pd.read_csv('../data/student_prediction.csv')\n",
    "results.head()"
   ]
  },
  {
   "cell_type": "code",
   "execution_count": 235,
   "metadata": {},
   "outputs": [
    {
     "data": {
      "text/html": [
       "<style type=\"text/css\">\n",
       "#T_a6675_row0_col0, #T_a6675_row0_col2, #T_a6675_row0_col4, #T_a6675_row1_col0, #T_a6675_row1_col2, #T_a6675_row1_col4, #T_a6675_row1_col7, #T_a6675_row2_col0, #T_a6675_row2_col2, #T_a6675_row3_col0, #T_a6675_row4_col0, #T_a6675_row4_col2, #T_a6675_row4_col4, #T_a6675_row4_col7, #T_a6675_row5_col0, #T_a6675_row5_col2, #T_a6675_row5_col4, #T_a6675_row5_col7, #T_a6675_row6_col0, #T_a6675_row6_col2, #T_a6675_row6_col4, #T_a6675_row6_col7, #T_a6675_row7_col0, #T_a6675_row7_col4, #T_a6675_row7_col5, #T_a6675_row8_col0, #T_a6675_row8_col4, #T_a6675_row8_col5, #T_a6675_row9_col0, #T_a6675_row9_col4, #T_a6675_row10_col0, #T_a6675_row10_col4, #T_a6675_row11_col0, #T_a6675_row12_col0, #T_a6675_row13_col0, #T_a6675_row13_col1, #T_a6675_row13_col2, #T_a6675_row13_col4, #T_a6675_row13_col5, #T_a6675_row13_col6, #T_a6675_row14_col0, #T_a6675_row15_col0, #T_a6675_row16_col0, #T_a6675_row17_col0, #T_a6675_row17_col2, #T_a6675_row18_col0, #T_a6675_row18_col2, #T_a6675_row19_col0, #T_a6675_row19_col1, #T_a6675_row19_col2, #T_a6675_row19_col4, #T_a6675_row19_col5, #T_a6675_row19_col6, #T_a6675_row19_col7, #T_a6675_row20_col0, #T_a6675_row20_col1, #T_a6675_row20_col2, #T_a6675_row20_col4, #T_a6675_row20_col5, #T_a6675_row20_col6, #T_a6675_row21_col0, #T_a6675_row21_col1, #T_a6675_row21_col2, #T_a6675_row21_col4, #T_a6675_row21_col5, #T_a6675_row21_col6, #T_a6675_row21_col7, #T_a6675_row22_col0, #T_a6675_row22_col1, #T_a6675_row22_col2, #T_a6675_row22_col4, #T_a6675_row22_col5, #T_a6675_row23_col0, #T_a6675_row23_col1, #T_a6675_row23_col2, #T_a6675_row23_col4, #T_a6675_row23_col5, #T_a6675_row23_col6, #T_a6675_row24_col0, #T_a6675_row24_col2, #T_a6675_row25_col0, #T_a6675_row25_col2, #T_a6675_row26_col0, #T_a6675_row26_col2, #T_a6675_row27_col0, #T_a6675_row27_col4, #T_a6675_row28_col0, #T_a6675_row29_col0, #T_a6675_row30_col0, #T_a6675_row30_col4, #T_a6675_row31_col0, #T_a6675_row31_col3, #T_a6675_row31_col4 {\n",
       "  background-color: #7fc97f;\n",
       "  color: #000000;\n",
       "}\n",
       "#T_a6675_row0_col1, #T_a6675_row0_col6, #T_a6675_row0_col7, #T_a6675_row1_col1, #T_a6675_row1_col6, #T_a6675_row2_col6, #T_a6675_row2_col7, #T_a6675_row3_col2, #T_a6675_row4_col1, #T_a6675_row4_col6, #T_a6675_row5_col1, #T_a6675_row5_col6, #T_a6675_row6_col1, #T_a6675_row6_col6, #T_a6675_row7_col1, #T_a6675_row7_col2, #T_a6675_row7_col6, #T_a6675_row8_col1, #T_a6675_row8_col2, #T_a6675_row8_col6, #T_a6675_row9_col1, #T_a6675_row9_col2, #T_a6675_row9_col6, #T_a6675_row13_col7, #T_a6675_row14_col2, #T_a6675_row14_col6, #T_a6675_row16_col2, #T_a6675_row17_col6, #T_a6675_row17_col7, #T_a6675_row18_col6, #T_a6675_row18_col7, #T_a6675_row20_col7, #T_a6675_row22_col6, #T_a6675_row22_col7, #T_a6675_row23_col7, #T_a6675_row24_col7, #T_a6675_row25_col7, #T_a6675_row26_col7, #T_a6675_row27_col1, #T_a6675_row27_col2, #T_a6675_row27_col6, #T_a6675_row27_col7, #T_a6675_row29_col2 {\n",
       "  background-color: #beaed4;\n",
       "  color: #000000;\n",
       "}\n",
       "#T_a6675_row0_col3, #T_a6675_row1_col3, #T_a6675_row2_col3, #T_a6675_row3_col3, #T_a6675_row3_col4, #T_a6675_row3_col5, #T_a6675_row4_col3, #T_a6675_row5_col3, #T_a6675_row6_col3, #T_a6675_row7_col3, #T_a6675_row8_col3, #T_a6675_row9_col3, #T_a6675_row10_col3, #T_a6675_row11_col3, #T_a6675_row11_col5, #T_a6675_row12_col3, #T_a6675_row12_col5, #T_a6675_row13_col3, #T_a6675_row14_col3, #T_a6675_row15_col3, #T_a6675_row15_col5, #T_a6675_row16_col3, #T_a6675_row17_col3, #T_a6675_row18_col3, #T_a6675_row19_col3, #T_a6675_row20_col3, #T_a6675_row21_col3, #T_a6675_row22_col3, #T_a6675_row23_col3, #T_a6675_row24_col3, #T_a6675_row24_col5, #T_a6675_row25_col3, #T_a6675_row26_col3, #T_a6675_row27_col3, #T_a6675_row28_col3, #T_a6675_row28_col5, #T_a6675_row29_col3, #T_a6675_row29_col5, #T_a6675_row30_col1, #T_a6675_row30_col2, #T_a6675_row30_col3, #T_a6675_row30_col5, #T_a6675_row30_col6, #T_a6675_row30_col7, #T_a6675_row31_col5 {\n",
       "  background-color: #666666;\n",
       "  color: #f1f1f1;\n",
       "}\n",
       "#T_a6675_row0_col5, #T_a6675_row1_col5, #T_a6675_row2_col4, #T_a6675_row2_col5, #T_a6675_row3_col6, #T_a6675_row4_col5, #T_a6675_row5_col5, #T_a6675_row6_col5, #T_a6675_row9_col5, #T_a6675_row10_col5, #T_a6675_row10_col7, #T_a6675_row11_col4, #T_a6675_row11_col7, #T_a6675_row12_col1, #T_a6675_row12_col4, #T_a6675_row12_col6, #T_a6675_row14_col4, #T_a6675_row14_col5, #T_a6675_row15_col1, #T_a6675_row15_col4, #T_a6675_row15_col6, #T_a6675_row16_col4, #T_a6675_row16_col5, #T_a6675_row17_col4, #T_a6675_row17_col5, #T_a6675_row18_col4, #T_a6675_row18_col5, #T_a6675_row24_col4, #T_a6675_row25_col4, #T_a6675_row25_col5, #T_a6675_row26_col4, #T_a6675_row26_col5, #T_a6675_row27_col5, #T_a6675_row28_col4, #T_a6675_row28_col6, #T_a6675_row29_col1, #T_a6675_row29_col4 {\n",
       "  background-color: #386cb0;\n",
       "  color: #f1f1f1;\n",
       "}\n",
       "#T_a6675_row2_col1, #T_a6675_row8_col7, #T_a6675_row9_col7, #T_a6675_row10_col2, #T_a6675_row10_col6, #T_a6675_row11_col2, #T_a6675_row11_col6, #T_a6675_row12_col2, #T_a6675_row15_col2, #T_a6675_row16_col1, #T_a6675_row16_col6, #T_a6675_row17_col1, #T_a6675_row18_col1, #T_a6675_row24_col6, #T_a6675_row25_col1, #T_a6675_row25_col6, #T_a6675_row26_col6, #T_a6675_row28_col2, #T_a6675_row29_col6, #T_a6675_row29_col7 {\n",
       "  background-color: #fdc086;\n",
       "  color: #000000;\n",
       "}\n",
       "#T_a6675_row3_col1 {\n",
       "  background-color: #bf5b17;\n",
       "  color: #f1f1f1;\n",
       "}\n",
       "#T_a6675_row3_col7, #T_a6675_row7_col7, #T_a6675_row10_col1, #T_a6675_row11_col1, #T_a6675_row12_col7, #T_a6675_row14_col1, #T_a6675_row14_col7, #T_a6675_row15_col7, #T_a6675_row16_col7, #T_a6675_row24_col1, #T_a6675_row26_col1, #T_a6675_row28_col7 {\n",
       "  background-color: #ffff99;\n",
       "  color: #000000;\n",
       "}\n",
       "#T_a6675_row28_col1, #T_a6675_row31_col1, #T_a6675_row31_col2, #T_a6675_row31_col6, #T_a6675_row31_col7 {\n",
       "  background-color: #f0027f;\n",
       "  color: #f1f1f1;\n",
       "}\n",
       "</style>\n",
       "<table id=\"T_a6675\">\n",
       "  <thead>\n",
       "    <tr>\n",
       "      <th class=\"blank level0\" >&nbsp;</th>\n",
       "      <th id=\"T_a6675_level0_col0\" class=\"col_heading level0 col0\" >count</th>\n",
       "      <th id=\"T_a6675_level0_col1\" class=\"col_heading level0 col1\" >mean</th>\n",
       "      <th id=\"T_a6675_level0_col2\" class=\"col_heading level0 col2\" >std</th>\n",
       "      <th id=\"T_a6675_level0_col3\" class=\"col_heading level0 col3\" >min</th>\n",
       "      <th id=\"T_a6675_level0_col4\" class=\"col_heading level0 col4\" >25%</th>\n",
       "      <th id=\"T_a6675_level0_col5\" class=\"col_heading level0 col5\" >50%</th>\n",
       "      <th id=\"T_a6675_level0_col6\" class=\"col_heading level0 col6\" >75%</th>\n",
       "      <th id=\"T_a6675_level0_col7\" class=\"col_heading level0 col7\" >max</th>\n",
       "    </tr>\n",
       "  </thead>\n",
       "  <tbody>\n",
       "    <tr>\n",
       "      <th id=\"T_a6675_level0_row0\" class=\"row_heading level0 row0\" >AGE</th>\n",
       "      <td id=\"T_a6675_row0_col0\" class=\"data row0 col0\" >145.000000</td>\n",
       "      <td id=\"T_a6675_row0_col1\" class=\"data row0 col1\" >1.620690</td>\n",
       "      <td id=\"T_a6675_row0_col2\" class=\"data row0 col2\" >0.613154</td>\n",
       "      <td id=\"T_a6675_row0_col3\" class=\"data row0 col3\" >1.000000</td>\n",
       "      <td id=\"T_a6675_row0_col4\" class=\"data row0 col4\" >1.000000</td>\n",
       "      <td id=\"T_a6675_row0_col5\" class=\"data row0 col5\" >2.000000</td>\n",
       "      <td id=\"T_a6675_row0_col6\" class=\"data row0 col6\" >2.000000</td>\n",
       "      <td id=\"T_a6675_row0_col7\" class=\"data row0 col7\" >3.000000</td>\n",
       "    </tr>\n",
       "    <tr>\n",
       "      <th id=\"T_a6675_level0_row1\" class=\"row_heading level0 row1\" >GENDER</th>\n",
       "      <td id=\"T_a6675_row1_col0\" class=\"data row1 col0\" >145.000000</td>\n",
       "      <td id=\"T_a6675_row1_col1\" class=\"data row1 col1\" >1.600000</td>\n",
       "      <td id=\"T_a6675_row1_col2\" class=\"data row1 col2\" >0.491596</td>\n",
       "      <td id=\"T_a6675_row1_col3\" class=\"data row1 col3\" >1.000000</td>\n",
       "      <td id=\"T_a6675_row1_col4\" class=\"data row1 col4\" >1.000000</td>\n",
       "      <td id=\"T_a6675_row1_col5\" class=\"data row1 col5\" >2.000000</td>\n",
       "      <td id=\"T_a6675_row1_col6\" class=\"data row1 col6\" >2.000000</td>\n",
       "      <td id=\"T_a6675_row1_col7\" class=\"data row1 col7\" >2.000000</td>\n",
       "    </tr>\n",
       "    <tr>\n",
       "      <th id=\"T_a6675_level0_row2\" class=\"row_heading level0 row2\" >HS_TYPE</th>\n",
       "      <td id=\"T_a6675_row2_col0\" class=\"data row2 col0\" >145.000000</td>\n",
       "      <td id=\"T_a6675_row2_col1\" class=\"data row2 col1\" >1.944828</td>\n",
       "      <td id=\"T_a6675_row2_col2\" class=\"data row2 col2\" >0.537216</td>\n",
       "      <td id=\"T_a6675_row2_col3\" class=\"data row2 col3\" >1.000000</td>\n",
       "      <td id=\"T_a6675_row2_col4\" class=\"data row2 col4\" >2.000000</td>\n",
       "      <td id=\"T_a6675_row2_col5\" class=\"data row2 col5\" >2.000000</td>\n",
       "      <td id=\"T_a6675_row2_col6\" class=\"data row2 col6\" >2.000000</td>\n",
       "      <td id=\"T_a6675_row2_col7\" class=\"data row2 col7\" >3.000000</td>\n",
       "    </tr>\n",
       "    <tr>\n",
       "      <th id=\"T_a6675_level0_row3\" class=\"row_heading level0 row3\" >SCHOLARSHIP</th>\n",
       "      <td id=\"T_a6675_row3_col0\" class=\"data row3 col0\" >145.000000</td>\n",
       "      <td id=\"T_a6675_row3_col1\" class=\"data row3 col1\" >3.572414</td>\n",
       "      <td id=\"T_a6675_row3_col2\" class=\"data row3 col2\" >0.805750</td>\n",
       "      <td id=\"T_a6675_row3_col3\" class=\"data row3 col3\" >1.000000</td>\n",
       "      <td id=\"T_a6675_row3_col4\" class=\"data row3 col4\" >3.000000</td>\n",
       "      <td id=\"T_a6675_row3_col5\" class=\"data row3 col5\" >3.000000</td>\n",
       "      <td id=\"T_a6675_row3_col6\" class=\"data row3 col6\" >4.000000</td>\n",
       "      <td id=\"T_a6675_row3_col7\" class=\"data row3 col7\" >5.000000</td>\n",
       "    </tr>\n",
       "    <tr>\n",
       "      <th id=\"T_a6675_level0_row4\" class=\"row_heading level0 row4\" >WORK</th>\n",
       "      <td id=\"T_a6675_row4_col0\" class=\"data row4 col0\" >145.000000</td>\n",
       "      <td id=\"T_a6675_row4_col1\" class=\"data row4 col1\" >1.662069</td>\n",
       "      <td id=\"T_a6675_row4_col2\" class=\"data row4 col2\" >0.474644</td>\n",
       "      <td id=\"T_a6675_row4_col3\" class=\"data row4 col3\" >1.000000</td>\n",
       "      <td id=\"T_a6675_row4_col4\" class=\"data row4 col4\" >1.000000</td>\n",
       "      <td id=\"T_a6675_row4_col5\" class=\"data row4 col5\" >2.000000</td>\n",
       "      <td id=\"T_a6675_row4_col6\" class=\"data row4 col6\" >2.000000</td>\n",
       "      <td id=\"T_a6675_row4_col7\" class=\"data row4 col7\" >2.000000</td>\n",
       "    </tr>\n",
       "    <tr>\n",
       "      <th id=\"T_a6675_level0_row5\" class=\"row_heading level0 row5\" >ACTIVITY</th>\n",
       "      <td id=\"T_a6675_row5_col0\" class=\"data row5 col0\" >145.000000</td>\n",
       "      <td id=\"T_a6675_row5_col1\" class=\"data row5 col1\" >1.600000</td>\n",
       "      <td id=\"T_a6675_row5_col2\" class=\"data row5 col2\" >0.491596</td>\n",
       "      <td id=\"T_a6675_row5_col3\" class=\"data row5 col3\" >1.000000</td>\n",
       "      <td id=\"T_a6675_row5_col4\" class=\"data row5 col4\" >1.000000</td>\n",
       "      <td id=\"T_a6675_row5_col5\" class=\"data row5 col5\" >2.000000</td>\n",
       "      <td id=\"T_a6675_row5_col6\" class=\"data row5 col6\" >2.000000</td>\n",
       "      <td id=\"T_a6675_row5_col7\" class=\"data row5 col7\" >2.000000</td>\n",
       "    </tr>\n",
       "    <tr>\n",
       "      <th id=\"T_a6675_level0_row6\" class=\"row_heading level0 row6\" >PARTNER</th>\n",
       "      <td id=\"T_a6675_row6_col0\" class=\"data row6 col0\" >145.000000</td>\n",
       "      <td id=\"T_a6675_row6_col1\" class=\"data row6 col1\" >1.579310</td>\n",
       "      <td id=\"T_a6675_row6_col2\" class=\"data row6 col2\" >0.495381</td>\n",
       "      <td id=\"T_a6675_row6_col3\" class=\"data row6 col3\" >1.000000</td>\n",
       "      <td id=\"T_a6675_row6_col4\" class=\"data row6 col4\" >1.000000</td>\n",
       "      <td id=\"T_a6675_row6_col5\" class=\"data row6 col5\" >2.000000</td>\n",
       "      <td id=\"T_a6675_row6_col6\" class=\"data row6 col6\" >2.000000</td>\n",
       "      <td id=\"T_a6675_row6_col7\" class=\"data row6 col7\" >2.000000</td>\n",
       "    </tr>\n",
       "    <tr>\n",
       "      <th id=\"T_a6675_level0_row7\" class=\"row_heading level0 row7\" >SALARY</th>\n",
       "      <td id=\"T_a6675_row7_col0\" class=\"data row7 col0\" >145.000000</td>\n",
       "      <td id=\"T_a6675_row7_col1\" class=\"data row7 col1\" >1.627586</td>\n",
       "      <td id=\"T_a6675_row7_col2\" class=\"data row7 col2\" >1.020245</td>\n",
       "      <td id=\"T_a6675_row7_col3\" class=\"data row7 col3\" >1.000000</td>\n",
       "      <td id=\"T_a6675_row7_col4\" class=\"data row7 col4\" >1.000000</td>\n",
       "      <td id=\"T_a6675_row7_col5\" class=\"data row7 col5\" >1.000000</td>\n",
       "      <td id=\"T_a6675_row7_col6\" class=\"data row7 col6\" >2.000000</td>\n",
       "      <td id=\"T_a6675_row7_col7\" class=\"data row7 col7\" >5.000000</td>\n",
       "    </tr>\n",
       "    <tr>\n",
       "      <th id=\"T_a6675_level0_row8\" class=\"row_heading level0 row8\" >TRANSPORT</th>\n",
       "      <td id=\"T_a6675_row8_col0\" class=\"data row8 col0\" >145.000000</td>\n",
       "      <td id=\"T_a6675_row8_col1\" class=\"data row8 col1\" >1.620690</td>\n",
       "      <td id=\"T_a6675_row8_col2\" class=\"data row8 col2\" >1.061112</td>\n",
       "      <td id=\"T_a6675_row8_col3\" class=\"data row8 col3\" >1.000000</td>\n",
       "      <td id=\"T_a6675_row8_col4\" class=\"data row8 col4\" >1.000000</td>\n",
       "      <td id=\"T_a6675_row8_col5\" class=\"data row8 col5\" >1.000000</td>\n",
       "      <td id=\"T_a6675_row8_col6\" class=\"data row8 col6\" >2.000000</td>\n",
       "      <td id=\"T_a6675_row8_col7\" class=\"data row8 col7\" >4.000000</td>\n",
       "    </tr>\n",
       "    <tr>\n",
       "      <th id=\"T_a6675_level0_row9\" class=\"row_heading level0 row9\" >LIVING</th>\n",
       "      <td id=\"T_a6675_row9_col0\" class=\"data row9 col0\" >145.000000</td>\n",
       "      <td id=\"T_a6675_row9_col1\" class=\"data row9 col1\" >1.731034</td>\n",
       "      <td id=\"T_a6675_row9_col2\" class=\"data row9 col2\" >0.783999</td>\n",
       "      <td id=\"T_a6675_row9_col3\" class=\"data row9 col3\" >1.000000</td>\n",
       "      <td id=\"T_a6675_row9_col4\" class=\"data row9 col4\" >1.000000</td>\n",
       "      <td id=\"T_a6675_row9_col5\" class=\"data row9 col5\" >2.000000</td>\n",
       "      <td id=\"T_a6675_row9_col6\" class=\"data row9 col6\" >2.000000</td>\n",
       "      <td id=\"T_a6675_row9_col7\" class=\"data row9 col7\" >4.000000</td>\n",
       "    </tr>\n",
       "    <tr>\n",
       "      <th id=\"T_a6675_level0_row10\" class=\"row_heading level0 row10\" >MOTHER_EDU</th>\n",
       "      <td id=\"T_a6675_row10_col0\" class=\"data row10 col0\" >145.000000</td>\n",
       "      <td id=\"T_a6675_row10_col1\" class=\"data row10 col1\" >2.282759</td>\n",
       "      <td id=\"T_a6675_row10_col2\" class=\"data row10 col2\" >1.223062</td>\n",
       "      <td id=\"T_a6675_row10_col3\" class=\"data row10 col3\" >1.000000</td>\n",
       "      <td id=\"T_a6675_row10_col4\" class=\"data row10 col4\" >1.000000</td>\n",
       "      <td id=\"T_a6675_row10_col5\" class=\"data row10 col5\" >2.000000</td>\n",
       "      <td id=\"T_a6675_row10_col6\" class=\"data row10 col6\" >3.000000</td>\n",
       "      <td id=\"T_a6675_row10_col7\" class=\"data row10 col7\" >6.000000</td>\n",
       "    </tr>\n",
       "    <tr>\n",
       "      <th id=\"T_a6675_level0_row11\" class=\"row_heading level0 row11\" >FATHER_EDU</th>\n",
       "      <td id=\"T_a6675_row11_col0\" class=\"data row11 col0\" >145.000000</td>\n",
       "      <td id=\"T_a6675_row11_col1\" class=\"data row11 col1\" >2.634483</td>\n",
       "      <td id=\"T_a6675_row11_col2\" class=\"data row11 col2\" >1.147544</td>\n",
       "      <td id=\"T_a6675_row11_col3\" class=\"data row11 col3\" >1.000000</td>\n",
       "      <td id=\"T_a6675_row11_col4\" class=\"data row11 col4\" >2.000000</td>\n",
       "      <td id=\"T_a6675_row11_col5\" class=\"data row11 col5\" >3.000000</td>\n",
       "      <td id=\"T_a6675_row11_col6\" class=\"data row11 col6\" >3.000000</td>\n",
       "      <td id=\"T_a6675_row11_col7\" class=\"data row11 col7\" >6.000000</td>\n",
       "    </tr>\n",
       "    <tr>\n",
       "      <th id=\"T_a6675_level0_row12\" class=\"row_heading level0 row12\" >#_SIBLINGS</th>\n",
       "      <td id=\"T_a6675_row12_col0\" class=\"data row12 col0\" >145.000000</td>\n",
       "      <td id=\"T_a6675_row12_col1\" class=\"data row12 col1\" >2.806897</td>\n",
       "      <td id=\"T_a6675_row12_col2\" class=\"data row12 col2\" >1.360640</td>\n",
       "      <td id=\"T_a6675_row12_col3\" class=\"data row12 col3\" >1.000000</td>\n",
       "      <td id=\"T_a6675_row12_col4\" class=\"data row12 col4\" >2.000000</td>\n",
       "      <td id=\"T_a6675_row12_col5\" class=\"data row12 col5\" >3.000000</td>\n",
       "      <td id=\"T_a6675_row12_col6\" class=\"data row12 col6\" >4.000000</td>\n",
       "      <td id=\"T_a6675_row12_col7\" class=\"data row12 col7\" >5.000000</td>\n",
       "    </tr>\n",
       "    <tr>\n",
       "      <th id=\"T_a6675_level0_row13\" class=\"row_heading level0 row13\" >KIDS</th>\n",
       "      <td id=\"T_a6675_row13_col0\" class=\"data row13 col0\" >145.000000</td>\n",
       "      <td id=\"T_a6675_row13_col1\" class=\"data row13 col1\" >1.172414</td>\n",
       "      <td id=\"T_a6675_row13_col2\" class=\"data row13 col2\" >0.490816</td>\n",
       "      <td id=\"T_a6675_row13_col3\" class=\"data row13 col3\" >1.000000</td>\n",
       "      <td id=\"T_a6675_row13_col4\" class=\"data row13 col4\" >1.000000</td>\n",
       "      <td id=\"T_a6675_row13_col5\" class=\"data row13 col5\" >1.000000</td>\n",
       "      <td id=\"T_a6675_row13_col6\" class=\"data row13 col6\" >1.000000</td>\n",
       "      <td id=\"T_a6675_row13_col7\" class=\"data row13 col7\" >3.000000</td>\n",
       "    </tr>\n",
       "    <tr>\n",
       "      <th id=\"T_a6675_level0_row14\" class=\"row_heading level0 row14\" >MOTHER_JOB</th>\n",
       "      <td id=\"T_a6675_row14_col0\" class=\"data row14 col0\" >145.000000</td>\n",
       "      <td id=\"T_a6675_row14_col1\" class=\"data row14 col1\" >2.358621</td>\n",
       "      <td id=\"T_a6675_row14_col2\" class=\"data row14 col2\" >0.805156</td>\n",
       "      <td id=\"T_a6675_row14_col3\" class=\"data row14 col3\" >1.000000</td>\n",
       "      <td id=\"T_a6675_row14_col4\" class=\"data row14 col4\" >2.000000</td>\n",
       "      <td id=\"T_a6675_row14_col5\" class=\"data row14 col5\" >2.000000</td>\n",
       "      <td id=\"T_a6675_row14_col6\" class=\"data row14 col6\" >2.000000</td>\n",
       "      <td id=\"T_a6675_row14_col7\" class=\"data row14 col7\" >5.000000</td>\n",
       "    </tr>\n",
       "    <tr>\n",
       "      <th id=\"T_a6675_level0_row15\" class=\"row_heading level0 row15\" >FATHER_JOB</th>\n",
       "      <td id=\"T_a6675_row15_col0\" class=\"data row15 col0\" >145.000000</td>\n",
       "      <td id=\"T_a6675_row15_col1\" class=\"data row15 col1\" >2.806897</td>\n",
       "      <td id=\"T_a6675_row15_col2\" class=\"data row15 col2\" >1.329664</td>\n",
       "      <td id=\"T_a6675_row15_col3\" class=\"data row15 col3\" >1.000000</td>\n",
       "      <td id=\"T_a6675_row15_col4\" class=\"data row15 col4\" >2.000000</td>\n",
       "      <td id=\"T_a6675_row15_col5\" class=\"data row15 col5\" >3.000000</td>\n",
       "      <td id=\"T_a6675_row15_col6\" class=\"data row15 col6\" >4.000000</td>\n",
       "      <td id=\"T_a6675_row15_col7\" class=\"data row15 col7\" >5.000000</td>\n",
       "    </tr>\n",
       "    <tr>\n",
       "      <th id=\"T_a6675_level0_row16\" class=\"row_heading level0 row16\" >STUDY_HRS</th>\n",
       "      <td id=\"T_a6675_row16_col0\" class=\"data row16 col0\" >145.000000</td>\n",
       "      <td id=\"T_a6675_row16_col1\" class=\"data row16 col1\" >2.200000</td>\n",
       "      <td id=\"T_a6675_row16_col2\" class=\"data row16 col2\" >0.917424</td>\n",
       "      <td id=\"T_a6675_row16_col3\" class=\"data row16 col3\" >1.000000</td>\n",
       "      <td id=\"T_a6675_row16_col4\" class=\"data row16 col4\" >2.000000</td>\n",
       "      <td id=\"T_a6675_row16_col5\" class=\"data row16 col5\" >2.000000</td>\n",
       "      <td id=\"T_a6675_row16_col6\" class=\"data row16 col6\" >3.000000</td>\n",
       "      <td id=\"T_a6675_row16_col7\" class=\"data row16 col7\" >5.000000</td>\n",
       "    </tr>\n",
       "    <tr>\n",
       "      <th id=\"T_a6675_level0_row17\" class=\"row_heading level0 row17\" >READ_FREQ</th>\n",
       "      <td id=\"T_a6675_row17_col0\" class=\"data row17 col0\" >145.000000</td>\n",
       "      <td id=\"T_a6675_row17_col1\" class=\"data row17 col1\" >1.944828</td>\n",
       "      <td id=\"T_a6675_row17_col2\" class=\"data row17 col2\" >0.562476</td>\n",
       "      <td id=\"T_a6675_row17_col3\" class=\"data row17 col3\" >1.000000</td>\n",
       "      <td id=\"T_a6675_row17_col4\" class=\"data row17 col4\" >2.000000</td>\n",
       "      <td id=\"T_a6675_row17_col5\" class=\"data row17 col5\" >2.000000</td>\n",
       "      <td id=\"T_a6675_row17_col6\" class=\"data row17 col6\" >2.000000</td>\n",
       "      <td id=\"T_a6675_row17_col7\" class=\"data row17 col7\" >3.000000</td>\n",
       "    </tr>\n",
       "    <tr>\n",
       "      <th id=\"T_a6675_level0_row18\" class=\"row_heading level0 row18\" >READ_FREQ_SCI</th>\n",
       "      <td id=\"T_a6675_row18_col0\" class=\"data row18 col0\" >145.000000</td>\n",
       "      <td id=\"T_a6675_row18_col1\" class=\"data row18 col1\" >2.013793</td>\n",
       "      <td id=\"T_a6675_row18_col2\" class=\"data row18 col2\" >0.539884</td>\n",
       "      <td id=\"T_a6675_row18_col3\" class=\"data row18 col3\" >1.000000</td>\n",
       "      <td id=\"T_a6675_row18_col4\" class=\"data row18 col4\" >2.000000</td>\n",
       "      <td id=\"T_a6675_row18_col5\" class=\"data row18 col5\" >2.000000</td>\n",
       "      <td id=\"T_a6675_row18_col6\" class=\"data row18 col6\" >2.000000</td>\n",
       "      <td id=\"T_a6675_row18_col7\" class=\"data row18 col7\" >3.000000</td>\n",
       "    </tr>\n",
       "    <tr>\n",
       "      <th id=\"T_a6675_level0_row19\" class=\"row_heading level0 row19\" >ATTEND_DEPT</th>\n",
       "      <td id=\"T_a6675_row19_col0\" class=\"data row19 col0\" >145.000000</td>\n",
       "      <td id=\"T_a6675_row19_col1\" class=\"data row19 col1\" >1.213793</td>\n",
       "      <td id=\"T_a6675_row19_col2\" class=\"data row19 col2\" >0.411404</td>\n",
       "      <td id=\"T_a6675_row19_col3\" class=\"data row19 col3\" >1.000000</td>\n",
       "      <td id=\"T_a6675_row19_col4\" class=\"data row19 col4\" >1.000000</td>\n",
       "      <td id=\"T_a6675_row19_col5\" class=\"data row19 col5\" >1.000000</td>\n",
       "      <td id=\"T_a6675_row19_col6\" class=\"data row19 col6\" >1.000000</td>\n",
       "      <td id=\"T_a6675_row19_col7\" class=\"data row19 col7\" >2.000000</td>\n",
       "    </tr>\n",
       "    <tr>\n",
       "      <th id=\"T_a6675_level0_row20\" class=\"row_heading level0 row20\" >IMPACT</th>\n",
       "      <td id=\"T_a6675_row20_col0\" class=\"data row20 col0\" >145.000000</td>\n",
       "      <td id=\"T_a6675_row20_col1\" class=\"data row20 col1\" >1.206897</td>\n",
       "      <td id=\"T_a6675_row20_col2\" class=\"data row20 col2\" >0.588035</td>\n",
       "      <td id=\"T_a6675_row20_col3\" class=\"data row20 col3\" >1.000000</td>\n",
       "      <td id=\"T_a6675_row20_col4\" class=\"data row20 col4\" >1.000000</td>\n",
       "      <td id=\"T_a6675_row20_col5\" class=\"data row20 col5\" >1.000000</td>\n",
       "      <td id=\"T_a6675_row20_col6\" class=\"data row20 col6\" >1.000000</td>\n",
       "      <td id=\"T_a6675_row20_col7\" class=\"data row20 col7\" >3.000000</td>\n",
       "    </tr>\n",
       "    <tr>\n",
       "      <th id=\"T_a6675_level0_row21\" class=\"row_heading level0 row21\" >ATTEND</th>\n",
       "      <td id=\"T_a6675_row21_col0\" class=\"data row21 col0\" >145.000000</td>\n",
       "      <td id=\"T_a6675_row21_col1\" class=\"data row21 col1\" >1.241379</td>\n",
       "      <td id=\"T_a6675_row21_col2\" class=\"data row21 col2\" >0.429403</td>\n",
       "      <td id=\"T_a6675_row21_col3\" class=\"data row21 col3\" >1.000000</td>\n",
       "      <td id=\"T_a6675_row21_col4\" class=\"data row21 col4\" >1.000000</td>\n",
       "      <td id=\"T_a6675_row21_col5\" class=\"data row21 col5\" >1.000000</td>\n",
       "      <td id=\"T_a6675_row21_col6\" class=\"data row21 col6\" >1.000000</td>\n",
       "      <td id=\"T_a6675_row21_col7\" class=\"data row21 col7\" >2.000000</td>\n",
       "    </tr>\n",
       "    <tr>\n",
       "      <th id=\"T_a6675_level0_row22\" class=\"row_heading level0 row22\" >PREP_STUDY</th>\n",
       "      <td id=\"T_a6675_row22_col0\" class=\"data row22 col0\" >145.000000</td>\n",
       "      <td id=\"T_a6675_row22_col1\" class=\"data row22 col1\" >1.337931</td>\n",
       "      <td id=\"T_a6675_row22_col2\" class=\"data row22 col2\" >0.614870</td>\n",
       "      <td id=\"T_a6675_row22_col3\" class=\"data row22 col3\" >1.000000</td>\n",
       "      <td id=\"T_a6675_row22_col4\" class=\"data row22 col4\" >1.000000</td>\n",
       "      <td id=\"T_a6675_row22_col5\" class=\"data row22 col5\" >1.000000</td>\n",
       "      <td id=\"T_a6675_row22_col6\" class=\"data row22 col6\" >2.000000</td>\n",
       "      <td id=\"T_a6675_row22_col7\" class=\"data row22 col7\" >3.000000</td>\n",
       "    </tr>\n",
       "    <tr>\n",
       "      <th id=\"T_a6675_level0_row23\" class=\"row_heading level0 row23\" >PREP_EXAM</th>\n",
       "      <td id=\"T_a6675_row23_col0\" class=\"data row23 col0\" >145.000000</td>\n",
       "      <td id=\"T_a6675_row23_col1\" class=\"data row23 col1\" >1.165517</td>\n",
       "      <td id=\"T_a6675_row23_col2\" class=\"data row23 col2\" >0.408483</td>\n",
       "      <td id=\"T_a6675_row23_col3\" class=\"data row23 col3\" >1.000000</td>\n",
       "      <td id=\"T_a6675_row23_col4\" class=\"data row23 col4\" >1.000000</td>\n",
       "      <td id=\"T_a6675_row23_col5\" class=\"data row23 col5\" >1.000000</td>\n",
       "      <td id=\"T_a6675_row23_col6\" class=\"data row23 col6\" >1.000000</td>\n",
       "      <td id=\"T_a6675_row23_col7\" class=\"data row23 col7\" >3.000000</td>\n",
       "    </tr>\n",
       "    <tr>\n",
       "      <th id=\"T_a6675_level0_row24\" class=\"row_heading level0 row24\" >NOTES</th>\n",
       "      <td id=\"T_a6675_row24_col0\" class=\"data row24 col0\" >145.000000</td>\n",
       "      <td id=\"T_a6675_row24_col1\" class=\"data row24 col1\" >2.544828</td>\n",
       "      <td id=\"T_a6675_row24_col2\" class=\"data row24 col2\" >0.564940</td>\n",
       "      <td id=\"T_a6675_row24_col3\" class=\"data row24 col3\" >1.000000</td>\n",
       "      <td id=\"T_a6675_row24_col4\" class=\"data row24 col4\" >2.000000</td>\n",
       "      <td id=\"T_a6675_row24_col5\" class=\"data row24 col5\" >3.000000</td>\n",
       "      <td id=\"T_a6675_row24_col6\" class=\"data row24 col6\" >3.000000</td>\n",
       "      <td id=\"T_a6675_row24_col7\" class=\"data row24 col7\" >3.000000</td>\n",
       "    </tr>\n",
       "    <tr>\n",
       "      <th id=\"T_a6675_level0_row25\" class=\"row_heading level0 row25\" >LISTENS</th>\n",
       "      <td id=\"T_a6675_row25_col0\" class=\"data row25 col0\" >145.000000</td>\n",
       "      <td id=\"T_a6675_row25_col1\" class=\"data row25 col1\" >2.055172</td>\n",
       "      <td id=\"T_a6675_row25_col2\" class=\"data row25 col2\" >0.674736</td>\n",
       "      <td id=\"T_a6675_row25_col3\" class=\"data row25 col3\" >1.000000</td>\n",
       "      <td id=\"T_a6675_row25_col4\" class=\"data row25 col4\" >2.000000</td>\n",
       "      <td id=\"T_a6675_row25_col5\" class=\"data row25 col5\" >2.000000</td>\n",
       "      <td id=\"T_a6675_row25_col6\" class=\"data row25 col6\" >3.000000</td>\n",
       "      <td id=\"T_a6675_row25_col7\" class=\"data row25 col7\" >3.000000</td>\n",
       "    </tr>\n",
       "    <tr>\n",
       "      <th id=\"T_a6675_level0_row26\" class=\"row_heading level0 row26\" >LIKES_DISCUSS</th>\n",
       "      <td id=\"T_a6675_row26_col0\" class=\"data row26 col0\" >145.000000</td>\n",
       "      <td id=\"T_a6675_row26_col1\" class=\"data row26 col1\" >2.393103</td>\n",
       "      <td id=\"T_a6675_row26_col2\" class=\"data row26 col2\" >0.604343</td>\n",
       "      <td id=\"T_a6675_row26_col3\" class=\"data row26 col3\" >1.000000</td>\n",
       "      <td id=\"T_a6675_row26_col4\" class=\"data row26 col4\" >2.000000</td>\n",
       "      <td id=\"T_a6675_row26_col5\" class=\"data row26 col5\" >2.000000</td>\n",
       "      <td id=\"T_a6675_row26_col6\" class=\"data row26 col6\" >3.000000</td>\n",
       "      <td id=\"T_a6675_row26_col7\" class=\"data row26 col7\" >3.000000</td>\n",
       "    </tr>\n",
       "    <tr>\n",
       "      <th id=\"T_a6675_level0_row27\" class=\"row_heading level0 row27\" >CLASSROOM</th>\n",
       "      <td id=\"T_a6675_row27_col0\" class=\"data row27 col0\" >145.000000</td>\n",
       "      <td id=\"T_a6675_row27_col1\" class=\"data row27 col1\" >1.806897</td>\n",
       "      <td id=\"T_a6675_row27_col2\" class=\"data row27 col2\" >0.810492</td>\n",
       "      <td id=\"T_a6675_row27_col3\" class=\"data row27 col3\" >1.000000</td>\n",
       "      <td id=\"T_a6675_row27_col4\" class=\"data row27 col4\" >1.000000</td>\n",
       "      <td id=\"T_a6675_row27_col5\" class=\"data row27 col5\" >2.000000</td>\n",
       "      <td id=\"T_a6675_row27_col6\" class=\"data row27 col6\" >2.000000</td>\n",
       "      <td id=\"T_a6675_row27_col7\" class=\"data row27 col7\" >3.000000</td>\n",
       "    </tr>\n",
       "    <tr>\n",
       "      <th id=\"T_a6675_level0_row28\" class=\"row_heading level0 row28\" >CUML_GPA</th>\n",
       "      <td id=\"T_a6675_row28_col0\" class=\"data row28 col0\" >145.000000</td>\n",
       "      <td id=\"T_a6675_row28_col1\" class=\"data row28 col1\" >3.124138</td>\n",
       "      <td id=\"T_a6675_row28_col2\" class=\"data row28 col2\" >1.301083</td>\n",
       "      <td id=\"T_a6675_row28_col3\" class=\"data row28 col3\" >1.000000</td>\n",
       "      <td id=\"T_a6675_row28_col4\" class=\"data row28 col4\" >2.000000</td>\n",
       "      <td id=\"T_a6675_row28_col5\" class=\"data row28 col5\" >3.000000</td>\n",
       "      <td id=\"T_a6675_row28_col6\" class=\"data row28 col6\" >4.000000</td>\n",
       "      <td id=\"T_a6675_row28_col7\" class=\"data row28 col7\" >5.000000</td>\n",
       "    </tr>\n",
       "    <tr>\n",
       "      <th id=\"T_a6675_level0_row29\" class=\"row_heading level0 row29\" >EXP_GPA</th>\n",
       "      <td id=\"T_a6675_row29_col0\" class=\"data row29 col0\" >145.000000</td>\n",
       "      <td id=\"T_a6675_row29_col1\" class=\"data row29 col1\" >2.724138</td>\n",
       "      <td id=\"T_a6675_row29_col2\" class=\"data row29 col2\" >0.916536</td>\n",
       "      <td id=\"T_a6675_row29_col3\" class=\"data row29 col3\" >1.000000</td>\n",
       "      <td id=\"T_a6675_row29_col4\" class=\"data row29 col4\" >2.000000</td>\n",
       "      <td id=\"T_a6675_row29_col5\" class=\"data row29 col5\" >3.000000</td>\n",
       "      <td id=\"T_a6675_row29_col6\" class=\"data row29 col6\" >3.000000</td>\n",
       "      <td id=\"T_a6675_row29_col7\" class=\"data row29 col7\" >4.000000</td>\n",
       "    </tr>\n",
       "    <tr>\n",
       "      <th id=\"T_a6675_level0_row30\" class=\"row_heading level0 row30\" >COURSE ID</th>\n",
       "      <td id=\"T_a6675_row30_col0\" class=\"data row30 col0\" >145.000000</td>\n",
       "      <td id=\"T_a6675_row30_col1\" class=\"data row30 col1\" >4.131034</td>\n",
       "      <td id=\"T_a6675_row30_col2\" class=\"data row30 col2\" >3.260145</td>\n",
       "      <td id=\"T_a6675_row30_col3\" class=\"data row30 col3\" >1.000000</td>\n",
       "      <td id=\"T_a6675_row30_col4\" class=\"data row30 col4\" >1.000000</td>\n",
       "      <td id=\"T_a6675_row30_col5\" class=\"data row30 col5\" >3.000000</td>\n",
       "      <td id=\"T_a6675_row30_col6\" class=\"data row30 col6\" >7.000000</td>\n",
       "      <td id=\"T_a6675_row30_col7\" class=\"data row30 col7\" >9.000000</td>\n",
       "    </tr>\n",
       "    <tr>\n",
       "      <th id=\"T_a6675_level0_row31\" class=\"row_heading level0 row31\" >GRADE</th>\n",
       "      <td id=\"T_a6675_row31_col0\" class=\"data row31 col0\" >145.000000</td>\n",
       "      <td id=\"T_a6675_row31_col1\" class=\"data row31 col1\" >3.227586</td>\n",
       "      <td id=\"T_a6675_row31_col2\" class=\"data row31 col2\" >2.197678</td>\n",
       "      <td id=\"T_a6675_row31_col3\" class=\"data row31 col3\" >0.000000</td>\n",
       "      <td id=\"T_a6675_row31_col4\" class=\"data row31 col4\" >1.000000</td>\n",
       "      <td id=\"T_a6675_row31_col5\" class=\"data row31 col5\" >3.000000</td>\n",
       "      <td id=\"T_a6675_row31_col6\" class=\"data row31 col6\" >5.000000</td>\n",
       "      <td id=\"T_a6675_row31_col7\" class=\"data row31 col7\" >7.000000</td>\n",
       "    </tr>\n",
       "  </tbody>\n",
       "</table>\n"
      ],
      "text/plain": [
       "<pandas.io.formats.style.Styler at 0x1d3a39ae6a0>"
      ]
     },
     "execution_count": 235,
     "metadata": {},
     "output_type": "execute_result"
    }
   ],
   "source": [
    "#get a preview of the properties of the features\n",
    "results.describe().T.style.background_gradient(cmap = \"Accent\")"
   ]
  },
  {
   "cell_type": "markdown",
   "metadata": {},
   "source": [
    "As seen during the EDA process, all columns are categorical and there are no missing values in the dataset"
   ]
  },
  {
   "cell_type": "markdown",
   "metadata": {},
   "source": [
    "### Feature Selection\n",
    "<p>Feature selection allows one to select only the properties of the dataset that are necessary to predict the target variable. In this project, I am going to use <b>Mutual Information</b> to select the features for use. Mutual Information measures the <b>Entropy drops</b> under the condition of the target value. The Mutual Information (MI) can be described using th following equation: </p>\n",
    "<p><code>&emsp;&emsp;&emsp;&emsp;&emsp;&emsp;&emsp;&emsp;&emsp;&emsp;&emsp;&emsp;MI(feature;target) = Entropy(feature) - Entropy(feature|target)</code><br></p>\n",
    "<p>The MI score falls in the range 0 to infinity. The higher the value, the closer the connection between the feature and the target variable. Higher connection means the feature should be included in the training dataset.</p>\n",
    "<p>Scikit-Learn provides functions to calculate MI scores for features. It also provides feature selection function that selects the top n features and top n percentile features after calculating their MI scores. So I will not have to calculate the MI scores for each feature manually and select the needed features but I will use the selectors to select top n% features that are needed.</p>\n",
    "\n"
   ]
  },
  {
   "cell_type": "code",
   "execution_count": 4,
   "metadata": {},
   "outputs": [],
   "source": [
    "# separate the features from the target variable\n",
    "X = results.drop(['GRADE', 'STUDENTID'], axis=1) #features of interes\n",
    "y = results['GRADE']"
   ]
  },
  {
   "cell_type": "markdown",
   "metadata": {},
   "source": [
    "<li>First, I separated the features in the dataset from the target variable. In this project, the target variable is the GRADE column. The other columns except STUDENTID and COURSE ID are my features that will be used to predict the target.</li>"
   ]
  },
  {
   "cell_type": "code",
   "execution_count": 5,
   "metadata": {},
   "outputs": [],
   "source": [
    "# using the train test split function from sklearn to split the dataset into training and testing sets\n",
    "X_train, X_test,y_train, y_test = train_test_split(X,y ,\n",
    "                                   random_state=23, \n",
    "                                   test_size=0.1, \n",
    "                                   shuffle=True)"
   ]
  },
  {
   "cell_type": "code",
   "execution_count": 238,
   "metadata": {},
   "outputs": [
    {
     "name": "stdout",
     "output_type": "stream",
     "text": [
      "Shape of train set: 0 (130, 31)\n",
      "Shape of test set: 0 (15, 31)\n"
     ]
    }
   ],
   "source": [
    "#check if dataset is split properly\n",
    "print(f'Shape of train set: {0}', X_train.shape)\n",
    "print(f'Shape of test set: {0}', X_test.shape)"
   ]
  },
  {
   "cell_type": "markdown",
   "metadata": {},
   "source": [
    "<li>The dataset was split into train and test properly. 116 rows will be used to train the model and the remaining 29 rows will be used to test our model performance</li>"
   ]
  },
  {
   "cell_type": "markdown",
   "metadata": {},
   "source": [
    "<ul>\n",
    "    <li>I will select 4 sets of features:</li>\n",
    "        <ol>\n",
    "            <li>Trainset using all features in the train dataset</li>\n",
    "            <li>Trainset using only top 50% features selected </li>\n",
    "            <li>Trainset using only top 75% features selected </li>\n",
    "            <li>Trainset using top 80% features selected</li>\n",
    "        </ol>\n",
    "    <li>I will then select the set with less features and acccuracy as close to the training set when all features are selected</li>\n",
    "</ul>"
   ]
  },
  {
   "cell_type": "markdown",
   "metadata": {},
   "source": [
    "##### Train a model using all features"
   ]
  },
  {
   "cell_type": "markdown",
   "metadata": {},
   "source": [
    "##### 1. Logistic Regression Model"
   ]
  },
  {
   "cell_type": "code",
   "execution_count": 262,
   "metadata": {},
   "outputs": [
    {
     "data": {
      "text/plain": [
       "array([0, 3, 7, 5, 2, 1, 2, 5, 0, 0, 7, 2, 4, 1, 2], dtype=int64)"
      ]
     },
     "execution_count": 262,
     "metadata": {},
     "output_type": "execute_result"
    }
   ],
   "source": [
    "# instantiate the model\n",
    "logreg =  LogisticRegression(multi_class='multinomial', solver='lbfgs',max_iter=7600) \n",
    "\n",
    "#fit the model\n",
    "logreg.fit(X_train,y_train) \n",
    "\n",
    "#predict\n",
    "y_pred=logreg.predict(X_test) \n",
    "y_pred\n",
    "\n"
   ]
  },
  {
   "cell_type": "code",
   "execution_count": 241,
   "metadata": {},
   "outputs": [
    {
     "name": "stdout",
     "output_type": "stream",
     "text": [
      "logistic Regressor Accuracy: 0.2\n",
      "logistic Regressor Precision: 0.2\n",
      "logistic Regressor  Recall: 0.2\n"
     ]
    }
   ],
   "source": [
    "# Evaluate the model performance using the confusion matrix\n",
    "print(\"logistic Regressor Accuracy:\",metrics.accuracy_score(y_test, y_pred))\n",
    "print(\"logistic Regressor Precision:\",metrics.precision_score(y_test, y_pred, average='micro')) \n",
    "print(\"logistic Regressor  Recall:\",metrics.recall_score(y_test, y_pred,average='micro'))"
   ]
  },
  {
   "cell_type": "markdown",
   "metadata": {},
   "source": [
    "##### 2. Decision Tree Classifier"
   ]
  },
  {
   "cell_type": "code",
   "execution_count": 242,
   "metadata": {},
   "outputs": [
    {
     "name": "stdout",
     "output_type": "stream",
     "text": [
      "Accuracy of the Decision Tree Classifier:  0.4\n"
     ]
    }
   ],
   "source": [
    "from sklearn.tree import DecisionTreeClassifier as DTC\n",
    "model_1 = DTC().fit(X_train,y_train)\n",
    "score_1 = model_1.score(X_test,y_test)\n",
    "print('Accuracy of the Decision Tree Classifier: ', score_1)"
   ]
  },
  {
   "cell_type": "markdown",
   "metadata": {},
   "source": [
    "##### 3. K-Nearest Neighbour Classifier"
   ]
  },
  {
   "cell_type": "code",
   "execution_count": 243,
   "metadata": {},
   "outputs": [
    {
     "name": "stdout",
     "output_type": "stream",
     "text": [
      "Acurracy of KNN classifier:  0.26666666666666666\n"
     ]
    }
   ],
   "source": [
    "from sklearn.neighbors import KNeighborsClassifier\n",
    "knn = KNeighborsClassifier()\n",
    "clf_knn=knn.fit(X_train, y_train)\n",
    "print (\"Acurracy of KNN classifier: \", clf_knn.score(X_test,y_test) )"
   ]
  },
  {
   "cell_type": "markdown",
   "metadata": {},
   "source": [
    "##### 4. Random Forest Classifier"
   ]
  },
  {
   "cell_type": "code",
   "execution_count": 264,
   "metadata": {},
   "outputs": [
    {
     "name": "stdout",
     "output_type": "stream",
     "text": [
      "Random Forest Classifier Accurracy:  0.3333333333333333\n"
     ]
    }
   ],
   "source": [
    "rf = RandomForestClassifier(n_estimators=100,n_jobs=-1)\n",
    "clf_rf = rf.fit(X_train,y_train)\n",
    "print (\"Random Forest Classifier Accurracy: \", clf_rf.score(X_test,y_test))"
   ]
  },
  {
   "cell_type": "markdown",
   "metadata": {},
   "source": [
    "##### 5. Naive Bayes Classifier"
   ]
  },
  {
   "cell_type": "code",
   "execution_count": 245,
   "metadata": {},
   "outputs": [
    {
     "name": "stdout",
     "output_type": "stream",
     "text": [
      "Naive Bayes Classifier Acurracy:  0.4\n"
     ]
    }
   ],
   "source": [
    "nb = BernoulliNB()\n",
    "clf_nb=nb.fit(X_train,y_train)\n",
    "print (\"Naive Bayes Classifier Acurracy: \", clf_nb.score(X_test,y_test))"
   ]
  },
  {
   "cell_type": "markdown",
   "metadata": {},
   "source": [
    "<li>From the 5 models I have trained above, none of them is performning well. All of them have an accuracy of less than 50%. Since I have very limited data to train the models, I am going to reduce the number of classes  (possible values in the target variable) from 7 class to only 3 class and use the best 3 models</li>"
   ]
  },
  {
   "cell_type": "code",
   "execution_count": 27,
   "metadata": {},
   "outputs": [],
   "source": [
    "#Function to reduce the possible values of grade\n",
    "def Decode_Grade(row):\n",
    "    '''Decode study hours column'''\n",
    "    if row['GRADE'] < 3:\n",
    "        return 1\n",
    "    elif row['GRADE'] < 6:\n",
    "        return 2\n",
    "    else:\n",
    "        return 3"
   ]
  },
  {
   "cell_type": "code",
   "execution_count": 28,
   "metadata": {},
   "outputs": [
    {
     "data": {
      "text/plain": [
       "1    67\n",
       "2    48\n",
       "3    30\n",
       "Name: GRADE, dtype: int64"
      ]
     },
     "execution_count": 28,
     "metadata": {},
     "output_type": "execute_result"
    }
   ],
   "source": [
    "results['GRADE'] = results.apply (lambda row: Decode_Grade(row), axis=1)\n",
    "results['GRADE'].value_counts()"
   ]
  },
  {
   "cell_type": "code",
   "execution_count": 29,
   "metadata": {},
   "outputs": [],
   "source": [
    "# separate the features from the target variable\n",
    "X = results.drop(['GRADE', 'STUDENTID'], axis=1) #features of interes\n",
    "y = results['GRADE']"
   ]
  },
  {
   "cell_type": "code",
   "execution_count": 30,
   "metadata": {},
   "outputs": [],
   "source": [
    "# using the train test split function from sklearn to split the dataset into training and testing sets\n",
    "X_train, X_test,y_train, y_test = train_test_split(X,y ,\n",
    "                                   random_state=23, \n",
    "                                   test_size=0.1, \n",
    "                                   shuffle=True)"
   ]
  },
  {
   "cell_type": "code",
   "execution_count": 31,
   "metadata": {},
   "outputs": [
    {
     "name": "stdout",
     "output_type": "stream",
     "text": [
      "Shape of train set: 0 (130, 31)\n",
      "Shape of test set: 0 (15, 31)\n"
     ]
    }
   ],
   "source": [
    "#check if dataset is split properly\n",
    "print(f'Shape of train set: {0}', X_train.shape)\n",
    "print(f'Shape of test set: {0}', X_test.shape)"
   ]
  },
  {
   "cell_type": "code",
   "execution_count": 25,
   "metadata": {},
   "outputs": [],
   "source": [
    "# save the test and train sets as csv files\n",
    "train = X_train.copy()\n",
    "train['GRADE'] = y_train\n",
    "\n",
    "test = X_test.copy()\n",
    "test['GRADE'] = y_test\n",
    "\n",
    "test.to_csv('../data/test.csv', index=False)\n",
    "train.to_csv('../data/train.csv', index=False)\n"
   ]
  },
  {
   "cell_type": "markdown",
   "metadata": {},
   "source": [
    "##### Feature Importance plot"
   ]
  },
  {
   "cell_type": "code",
   "execution_count": 265,
   "metadata": {},
   "outputs": [
    {
     "data": {
      "text/plain": [
       "<AxesSubplot: >"
      ]
     },
     "execution_count": 265,
     "metadata": {},
     "output_type": "execute_result"
    },
    {
     "data": {
      "image/png": "[encoded data removed]",
      "text/plain": [
       "<Figure size 1000x700 with 1 Axes>"
      ]
     },
     "metadata": {},
     "output_type": "display_data"
    }
   ],
   "source": [
    "# plot the 10 most important features\n",
    "plt.figure(figsize=(10, 7))\n",
    "feat_importances = pd.Series(rf.feature_importances_, index = X_train.columns)\n",
    "feat_importances.nlargest(30).plot(kind='barh')"
   ]
  },
  {
   "cell_type": "markdown",
   "metadata": {},
   "source": [
    "Run the models again on new target variable\n",
    "##### a. Logistic Regressor"
   ]
  },
  {
   "cell_type": "code",
   "execution_count": 252,
   "metadata": {},
   "outputs": [
    {
     "data": {
      "text/plain": [
       "array([1, 2, 3, 2, 1, 1, 1, 2, 1, 1, 3, 1, 1, 2, 1], dtype=int64)"
      ]
     },
     "execution_count": 252,
     "metadata": {},
     "output_type": "execute_result"
    }
   ],
   "source": [
    "# instantiate the model\n",
    "logreg =  LogisticRegression(multi_class='multinomial', solver='lbfgs',max_iter=7600) \n",
    "\n",
    "#fit the model\n",
    "logreg.fit(X_train,y_train) \n",
    "\n",
    "#predict\n",
    "y_pred=logreg.predict(X_test) \n",
    "y_pred\n"
   ]
  },
  {
   "cell_type": "code",
   "execution_count": 253,
   "metadata": {},
   "outputs": [
    {
     "name": "stdout",
     "output_type": "stream",
     "text": [
      "Logistic Regressor Accuracy: 0.6666666666666666\n",
      "Logistic Regressor Precision: 0.6759259259259259\n",
      "Logistic Regressor Recall: 0.5925925925925926\n"
     ]
    }
   ],
   "source": [
    "# Evaluate the model performance using the confusion matrix\n",
    "print(\"Logistic Regressor Accuracy:\",metrics.accuracy_score(y_test, y_pred))\n",
    "print(\"Logistic Regressor Precision:\",metrics.precision_score(y_test, y_pred, average='macro')) \n",
    "print(\"Logistic Regressor Recall:\",metrics.recall_score(y_test, y_pred,average='macro'))"
   ]
  },
  {
   "cell_type": "markdown",
   "metadata": {},
   "source": [
    "##### b. Random Forest Classifier"
   ]
  },
  {
   "cell_type": "code",
   "execution_count": 53,
   "metadata": {},
   "outputs": [
    {
     "data": {
      "text/plain": [
       "121    1\n",
       "3      1\n",
       "72     3\n",
       "73     3\n",
       "67     1\n",
       "18     1\n",
       "64     2\n",
       "28     2\n",
       "20     1\n",
       "10     1\n",
       "84     3\n",
       "134    1\n",
       "105    3\n",
       "50     1\n",
       "2      1\n",
       "Name: GRADE, dtype: int64"
      ]
     },
     "execution_count": 53,
     "metadata": {},
     "output_type": "execute_result"
    }
   ],
   "source": [
    "y_test"
   ]
  },
  {
   "cell_type": "code",
   "execution_count": 49,
   "metadata": {},
   "outputs": [
    {
     "data": {
      "text/html": [
       "<div>\n",
       "<style scoped>\n",
       "    .dataframe tbody tr th:only-of-type {\n",
       "        vertical-align: middle;\n",
       "    }\n",
       "\n",
       "    .dataframe tbody tr th {\n",
       "        vertical-align: top;\n",
       "    }\n",
       "\n",
       "    .dataframe thead th {\n",
       "        text-align: right;\n",
       "    }\n",
       "</style>\n",
       "<table border=\"1\" class=\"dataframe\">\n",
       "  <thead>\n",
       "    <tr style=\"text-align: right;\">\n",
       "      <th></th>\n",
       "      <th>AGE</th>\n",
       "      <th>GENDER</th>\n",
       "      <th>HS_TYPE</th>\n",
       "      <th>SCHOLARSHIP</th>\n",
       "      <th>WORK</th>\n",
       "      <th>ACTIVITY</th>\n",
       "      <th>PARTNER</th>\n",
       "      <th>SALARY</th>\n",
       "      <th>TRANSPORT</th>\n",
       "      <th>LIVING</th>\n",
       "      <th>...</th>\n",
       "      <th>ATTEND</th>\n",
       "      <th>PREP_STUDY</th>\n",
       "      <th>PREP_EXAM</th>\n",
       "      <th>NOTES</th>\n",
       "      <th>LISTENS</th>\n",
       "      <th>LIKES_DISCUSS</th>\n",
       "      <th>CLASSROOM</th>\n",
       "      <th>CUML_GPA</th>\n",
       "      <th>EXP_GPA</th>\n",
       "      <th>COURSE ID</th>\n",
       "    </tr>\n",
       "  </thead>\n",
       "  <tbody>\n",
       "    <tr>\n",
       "      <th>121</th>\n",
       "      <td>2</td>\n",
       "      <td>1</td>\n",
       "      <td>2</td>\n",
       "      <td>3</td>\n",
       "      <td>1</td>\n",
       "      <td>1</td>\n",
       "      <td>1</td>\n",
       "      <td>1</td>\n",
       "      <td>2</td>\n",
       "      <td>1</td>\n",
       "      <td>...</td>\n",
       "      <td>1</td>\n",
       "      <td>2</td>\n",
       "      <td>1</td>\n",
       "      <td>1</td>\n",
       "      <td>1</td>\n",
       "      <td>1</td>\n",
       "      <td>1</td>\n",
       "      <td>1</td>\n",
       "      <td>1</td>\n",
       "      <td>8</td>\n",
       "    </tr>\n",
       "    <tr>\n",
       "      <th>3</th>\n",
       "      <td>1</td>\n",
       "      <td>1</td>\n",
       "      <td>1</td>\n",
       "      <td>3</td>\n",
       "      <td>1</td>\n",
       "      <td>2</td>\n",
       "      <td>1</td>\n",
       "      <td>2</td>\n",
       "      <td>1</td>\n",
       "      <td>2</td>\n",
       "      <td>...</td>\n",
       "      <td>1</td>\n",
       "      <td>1</td>\n",
       "      <td>2</td>\n",
       "      <td>3</td>\n",
       "      <td>2</td>\n",
       "      <td>2</td>\n",
       "      <td>1</td>\n",
       "      <td>3</td>\n",
       "      <td>2</td>\n",
       "      <td>1</td>\n",
       "    </tr>\n",
       "    <tr>\n",
       "      <th>72</th>\n",
       "      <td>1</td>\n",
       "      <td>2</td>\n",
       "      <td>2</td>\n",
       "      <td>3</td>\n",
       "      <td>2</td>\n",
       "      <td>1</td>\n",
       "      <td>1</td>\n",
       "      <td>1</td>\n",
       "      <td>1</td>\n",
       "      <td>2</td>\n",
       "      <td>...</td>\n",
       "      <td>1</td>\n",
       "      <td>1</td>\n",
       "      <td>1</td>\n",
       "      <td>2</td>\n",
       "      <td>2</td>\n",
       "      <td>3</td>\n",
       "      <td>2</td>\n",
       "      <td>3</td>\n",
       "      <td>3</td>\n",
       "      <td>3</td>\n",
       "    </tr>\n",
       "    <tr>\n",
       "      <th>73</th>\n",
       "      <td>2</td>\n",
       "      <td>2</td>\n",
       "      <td>2</td>\n",
       "      <td>4</td>\n",
       "      <td>2</td>\n",
       "      <td>2</td>\n",
       "      <td>2</td>\n",
       "      <td>1</td>\n",
       "      <td>1</td>\n",
       "      <td>2</td>\n",
       "      <td>...</td>\n",
       "      <td>1</td>\n",
       "      <td>1</td>\n",
       "      <td>2</td>\n",
       "      <td>3</td>\n",
       "      <td>2</td>\n",
       "      <td>3</td>\n",
       "      <td>1</td>\n",
       "      <td>5</td>\n",
       "      <td>3</td>\n",
       "      <td>3</td>\n",
       "    </tr>\n",
       "    <tr>\n",
       "      <th>67</th>\n",
       "      <td>2</td>\n",
       "      <td>2</td>\n",
       "      <td>3</td>\n",
       "      <td>3</td>\n",
       "      <td>1</td>\n",
       "      <td>1</td>\n",
       "      <td>2</td>\n",
       "      <td>3</td>\n",
       "      <td>1</td>\n",
       "      <td>2</td>\n",
       "      <td>...</td>\n",
       "      <td>2</td>\n",
       "      <td>1</td>\n",
       "      <td>1</td>\n",
       "      <td>2</td>\n",
       "      <td>2</td>\n",
       "      <td>1</td>\n",
       "      <td>2</td>\n",
       "      <td>2</td>\n",
       "      <td>3</td>\n",
       "      <td>2</td>\n",
       "    </tr>\n",
       "    <tr>\n",
       "      <th>18</th>\n",
       "      <td>1</td>\n",
       "      <td>1</td>\n",
       "      <td>2</td>\n",
       "      <td>4</td>\n",
       "      <td>2</td>\n",
       "      <td>2</td>\n",
       "      <td>2</td>\n",
       "      <td>3</td>\n",
       "      <td>1</td>\n",
       "      <td>1</td>\n",
       "      <td>...</td>\n",
       "      <td>2</td>\n",
       "      <td>1</td>\n",
       "      <td>1</td>\n",
       "      <td>3</td>\n",
       "      <td>1</td>\n",
       "      <td>3</td>\n",
       "      <td>3</td>\n",
       "      <td>3</td>\n",
       "      <td>3</td>\n",
       "      <td>1</td>\n",
       "    </tr>\n",
       "    <tr>\n",
       "      <th>64</th>\n",
       "      <td>2</td>\n",
       "      <td>2</td>\n",
       "      <td>3</td>\n",
       "      <td>5</td>\n",
       "      <td>2</td>\n",
       "      <td>2</td>\n",
       "      <td>2</td>\n",
       "      <td>1</td>\n",
       "      <td>1</td>\n",
       "      <td>1</td>\n",
       "      <td>...</td>\n",
       "      <td>1</td>\n",
       "      <td>2</td>\n",
       "      <td>1</td>\n",
       "      <td>3</td>\n",
       "      <td>2</td>\n",
       "      <td>3</td>\n",
       "      <td>1</td>\n",
       "      <td>4</td>\n",
       "      <td>3</td>\n",
       "      <td>1</td>\n",
       "    </tr>\n",
       "    <tr>\n",
       "      <th>28</th>\n",
       "      <td>3</td>\n",
       "      <td>2</td>\n",
       "      <td>2</td>\n",
       "      <td>3</td>\n",
       "      <td>2</td>\n",
       "      <td>2</td>\n",
       "      <td>1</td>\n",
       "      <td>1</td>\n",
       "      <td>4</td>\n",
       "      <td>2</td>\n",
       "      <td>...</td>\n",
       "      <td>1</td>\n",
       "      <td>1</td>\n",
       "      <td>1</td>\n",
       "      <td>3</td>\n",
       "      <td>2</td>\n",
       "      <td>3</td>\n",
       "      <td>3</td>\n",
       "      <td>5</td>\n",
       "      <td>4</td>\n",
       "      <td>1</td>\n",
       "    </tr>\n",
       "    <tr>\n",
       "      <th>20</th>\n",
       "      <td>1</td>\n",
       "      <td>2</td>\n",
       "      <td>2</td>\n",
       "      <td>5</td>\n",
       "      <td>1</td>\n",
       "      <td>2</td>\n",
       "      <td>1</td>\n",
       "      <td>1</td>\n",
       "      <td>4</td>\n",
       "      <td>2</td>\n",
       "      <td>...</td>\n",
       "      <td>1</td>\n",
       "      <td>1</td>\n",
       "      <td>2</td>\n",
       "      <td>3</td>\n",
       "      <td>1</td>\n",
       "      <td>2</td>\n",
       "      <td>3</td>\n",
       "      <td>4</td>\n",
       "      <td>4</td>\n",
       "      <td>1</td>\n",
       "    </tr>\n",
       "    <tr>\n",
       "      <th>10</th>\n",
       "      <td>1</td>\n",
       "      <td>1</td>\n",
       "      <td>1</td>\n",
       "      <td>3</td>\n",
       "      <td>2</td>\n",
       "      <td>2</td>\n",
       "      <td>2</td>\n",
       "      <td>3</td>\n",
       "      <td>2</td>\n",
       "      <td>3</td>\n",
       "      <td>...</td>\n",
       "      <td>2</td>\n",
       "      <td>1</td>\n",
       "      <td>1</td>\n",
       "      <td>2</td>\n",
       "      <td>2</td>\n",
       "      <td>2</td>\n",
       "      <td>2</td>\n",
       "      <td>1</td>\n",
       "      <td>1</td>\n",
       "      <td>1</td>\n",
       "    </tr>\n",
       "    <tr>\n",
       "      <th>84</th>\n",
       "      <td>3</td>\n",
       "      <td>2</td>\n",
       "      <td>3</td>\n",
       "      <td>3</td>\n",
       "      <td>1</td>\n",
       "      <td>2</td>\n",
       "      <td>1</td>\n",
       "      <td>3</td>\n",
       "      <td>1</td>\n",
       "      <td>2</td>\n",
       "      <td>...</td>\n",
       "      <td>1</td>\n",
       "      <td>3</td>\n",
       "      <td>3</td>\n",
       "      <td>3</td>\n",
       "      <td>3</td>\n",
       "      <td>3</td>\n",
       "      <td>3</td>\n",
       "      <td>5</td>\n",
       "      <td>4</td>\n",
       "      <td>5</td>\n",
       "    </tr>\n",
       "    <tr>\n",
       "      <th>134</th>\n",
       "      <td>1</td>\n",
       "      <td>1</td>\n",
       "      <td>2</td>\n",
       "      <td>4</td>\n",
       "      <td>2</td>\n",
       "      <td>1</td>\n",
       "      <td>2</td>\n",
       "      <td>1</td>\n",
       "      <td>2</td>\n",
       "      <td>3</td>\n",
       "      <td>...</td>\n",
       "      <td>1</td>\n",
       "      <td>1</td>\n",
       "      <td>1</td>\n",
       "      <td>2</td>\n",
       "      <td>1</td>\n",
       "      <td>2</td>\n",
       "      <td>1</td>\n",
       "      <td>2</td>\n",
       "      <td>3</td>\n",
       "      <td>9</td>\n",
       "    </tr>\n",
       "    <tr>\n",
       "      <th>105</th>\n",
       "      <td>1</td>\n",
       "      <td>2</td>\n",
       "      <td>2</td>\n",
       "      <td>4</td>\n",
       "      <td>1</td>\n",
       "      <td>1</td>\n",
       "      <td>2</td>\n",
       "      <td>1</td>\n",
       "      <td>1</td>\n",
       "      <td>1</td>\n",
       "      <td>...</td>\n",
       "      <td>2</td>\n",
       "      <td>1</td>\n",
       "      <td>2</td>\n",
       "      <td>2</td>\n",
       "      <td>1</td>\n",
       "      <td>3</td>\n",
       "      <td>1</td>\n",
       "      <td>3</td>\n",
       "      <td>3</td>\n",
       "      <td>7</td>\n",
       "    </tr>\n",
       "    <tr>\n",
       "      <th>50</th>\n",
       "      <td>2</td>\n",
       "      <td>2</td>\n",
       "      <td>2</td>\n",
       "      <td>3</td>\n",
       "      <td>2</td>\n",
       "      <td>2</td>\n",
       "      <td>1</td>\n",
       "      <td>2</td>\n",
       "      <td>2</td>\n",
       "      <td>1</td>\n",
       "      <td>...</td>\n",
       "      <td>2</td>\n",
       "      <td>1</td>\n",
       "      <td>1</td>\n",
       "      <td>2</td>\n",
       "      <td>2</td>\n",
       "      <td>2</td>\n",
       "      <td>3</td>\n",
       "      <td>3</td>\n",
       "      <td>3</td>\n",
       "      <td>1</td>\n",
       "    </tr>\n",
       "    <tr>\n",
       "      <th>2</th>\n",
       "      <td>2</td>\n",
       "      <td>2</td>\n",
       "      <td>2</td>\n",
       "      <td>3</td>\n",
       "      <td>2</td>\n",
       "      <td>2</td>\n",
       "      <td>2</td>\n",
       "      <td>2</td>\n",
       "      <td>4</td>\n",
       "      <td>2</td>\n",
       "      <td>...</td>\n",
       "      <td>1</td>\n",
       "      <td>1</td>\n",
       "      <td>1</td>\n",
       "      <td>2</td>\n",
       "      <td>2</td>\n",
       "      <td>1</td>\n",
       "      <td>1</td>\n",
       "      <td>2</td>\n",
       "      <td>2</td>\n",
       "      <td>1</td>\n",
       "    </tr>\n",
       "  </tbody>\n",
       "</table>\n",
       "<p>15 rows × 31 columns</p>\n",
       "</div>"
      ],
      "text/plain": [
       "     AGE  GENDER  HS_TYPE  SCHOLARSHIP  WORK  ACTIVITY  PARTNER  SALARY  \\\n",
       "121    2       1        2            3     1         1        1       1   \n",
       "3      1       1        1            3     1         2        1       2   \n",
       "72     1       2        2            3     2         1        1       1   \n",
       "73     2       2        2            4     2         2        2       1   \n",
       "67     2       2        3            3     1         1        2       3   \n",
       "18     1       1        2            4     2         2        2       3   \n",
       "64     2       2        3            5     2         2        2       1   \n",
       "28     3       2        2            3     2         2        1       1   \n",
       "20     1       2        2            5     1         2        1       1   \n",
       "10     1       1        1            3     2         2        2       3   \n",
       "84     3       2        3            3     1         2        1       3   \n",
       "134    1       1        2            4     2         1        2       1   \n",
       "105    1       2        2            4     1         1        2       1   \n",
       "50     2       2        2            3     2         2        1       2   \n",
       "2      2       2        2            3     2         2        2       2   \n",
       "\n",
       "     TRANSPORT  LIVING  ...  ATTEND  PREP_STUDY  PREP_EXAM  NOTES  LISTENS  \\\n",
       "121          2       1  ...       1           2          1      1        1   \n",
       "3            1       2  ...       1           1          2      3        2   \n",
       "72           1       2  ...       1           1          1      2        2   \n",
       "73           1       2  ...       1           1          2      3        2   \n",
       "67           1       2  ...       2           1          1      2        2   \n",
       "18           1       1  ...       2           1          1      3        1   \n",
       "64           1       1  ...       1           2          1      3        2   \n",
       "28           4       2  ...       1           1          1      3        2   \n",
       "20           4       2  ...       1           1          2      3        1   \n",
       "10           2       3  ...       2           1          1      2        2   \n",
       "84           1       2  ...       1           3          3      3        3   \n",
       "134          2       3  ...       1           1          1      2        1   \n",
       "105          1       1  ...       2           1          2      2        1   \n",
       "50           2       1  ...       2           1          1      2        2   \n",
       "2            4       2  ...       1           1          1      2        2   \n",
       "\n",
       "     LIKES_DISCUSS  CLASSROOM  CUML_GPA  EXP_GPA  COURSE ID  \n",
       "121              1          1         1        1          8  \n",
       "3                2          1         3        2          1  \n",
       "72               3          2         3        3          3  \n",
       "73               3          1         5        3          3  \n",
       "67               1          2         2        3          2  \n",
       "18               3          3         3        3          1  \n",
       "64               3          1         4        3          1  \n",
       "28               3          3         5        4          1  \n",
       "20               2          3         4        4          1  \n",
       "10               2          2         1        1          1  \n",
       "84               3          3         5        4          5  \n",
       "134              2          1         2        3          9  \n",
       "105              3          1         3        3          7  \n",
       "50               2          3         3        3          1  \n",
       "2                1          1         2        2          1  \n",
       "\n",
       "[15 rows x 31 columns]"
      ]
     },
     "execution_count": 49,
     "metadata": {},
     "output_type": "execute_result"
    }
   ],
   "source": [
    "X_test"
   ]
  },
  {
   "cell_type": "code",
   "execution_count": 52,
   "metadata": {},
   "outputs": [
    {
     "data": {
      "text/plain": [
       "AGE              2\n",
       "GENDER           1\n",
       "HS_TYPE          2\n",
       "SCHOLARSHIP      3\n",
       "WORK             1\n",
       "ACTIVITY         1\n",
       "PARTNER          1\n",
       "SALARY           1\n",
       "TRANSPORT        2\n",
       "LIVING           1\n",
       "MOTHER_EDU       1\n",
       "FATHER_EDU       1\n",
       "#_SIBLINGS       5\n",
       "KIDS             3\n",
       "MOTHER_JOB       2\n",
       "FATHER_JOB       4\n",
       "STUDY_HRS        5\n",
       "READ_FREQ        3\n",
       "READ_FREQ_SCI    3\n",
       "ATTEND_DEPT      1\n",
       "IMPACT           3\n",
       "ATTEND           1\n",
       "PREP_STUDY       2\n",
       "PREP_EXAM        1\n",
       "NOTES            1\n",
       "LISTENS          1\n",
       "LIKES_DISCUSS    1\n",
       "CLASSROOM        1\n",
       "CUML_GPA         1\n",
       "EXP_GPA          1\n",
       "COURSE ID        8\n",
       "Name: 121, dtype: int64"
      ]
     },
     "execution_count": 52,
     "metadata": {},
     "output_type": "execute_result"
    }
   ],
   "source": [
    "X_test.iloc[0]"
   ]
  },
  {
   "cell_type": "code",
   "execution_count": 50,
   "metadata": {},
   "outputs": [
    {
     "data": {
      "text/plain": [
       "1"
      ]
     },
     "execution_count": 50,
     "metadata": {},
     "output_type": "execute_result"
    }
   ],
   "source": [
    "y_test.iloc[0]"
   ]
  },
  {
   "cell_type": "code",
   "execution_count": 57,
   "metadata": {},
   "outputs": [
    {
     "data": {
      "text/plain": [
       "array([[1, 2, 2, 3, 2, 1, 1, 1, 1, 2, 1, 1, 2, 1, 2, 3, 2, 3, 3, 1, 1, 1,\n",
       "        1, 1, 2, 2, 3, 2, 3, 3, 3]], dtype=int64)"
      ]
     },
     "execution_count": 57,
     "metadata": {},
     "output_type": "execute_result"
    }
   ],
   "source": [
    "x_ = X_test.iloc[2].values\n",
    "x_ =x_.reshape(1, -1)\n",
    "x_"
   ]
  },
  {
   "cell_type": "code",
   "execution_count": 34,
   "metadata": {},
   "outputs": [
    {
     "data": {
      "text/plain": [
       "121    1\n",
       "3      1\n",
       "72     3\n",
       "73     3\n",
       "67     1\n",
       "18     1\n",
       "64     2\n",
       "28     2\n",
       "20     1\n",
       "10     1\n",
       "84     3\n",
       "134    1\n",
       "105    3\n",
       "50     1\n",
       "2      1\n",
       "Name: GRADE, dtype: int64"
      ]
     },
     "execution_count": 34,
     "metadata": {},
     "output_type": "execute_result"
    }
   ],
   "source": [
    "y_test"
   ]
  },
  {
   "cell_type": "code",
   "execution_count": 59,
   "metadata": {},
   "outputs": [
    {
     "name": "stderr",
     "output_type": "stream",
     "text": [
      "c:\\Users\\wakur\\OneDrive\\Documents\\GitHub\\University-Results\\venv\\lib\\site-packages\\sklearn\\base.py:450: UserWarning: X does not have valid feature names, but RandomForestClassifier was fitted with feature names\n",
      "  warnings.warn(\n"
     ]
    },
    {
     "data": {
      "text/plain": [
       "array([2], dtype=int64)"
      ]
     },
     "execution_count": 59,
     "metadata": {},
     "output_type": "execute_result"
    }
   ],
   "source": [
    "y_ = clf_rf.predict(x_)\n",
    "y_"
   ]
  },
  {
   "cell_type": "code",
   "execution_count": 32,
   "metadata": {},
   "outputs": [
    {
     "name": "stdout",
     "output_type": "stream",
     "text": [
      "Random Forest Classifier Acurracy:  0.6666666666666666\n"
     ]
    }
   ],
   "source": [
    "rf = RandomForestClassifier(n_estimators=100,n_jobs=-1)\n",
    "clf_rf = rf.fit(X_train,y_train)\n",
    "print (\"Random Forest Classifier Acurracy: \", clf_rf.score(X_test,y_test))"
   ]
  },
  {
   "cell_type": "markdown",
   "metadata": {},
   "source": [
    "##### c. Naive Bayes Classifier"
   ]
  },
  {
   "cell_type": "code",
   "execution_count": 255,
   "metadata": {},
   "outputs": [
    {
     "name": "stdout",
     "output_type": "stream",
     "text": [
      "Naive Bayes Classifier Acurracy:  0.6\n"
     ]
    }
   ],
   "source": [
    "nb = BernoulliNB()\n",
    "clf_nb=nb.fit(X_train,y_train)\n",
    "print (\"Naive Bayes Classifier Acurracy: \", clf_nb.score(X_test,y_test))"
   ]
  },
  {
   "cell_type": "markdown",
   "metadata": {},
   "source": [
    "<li>Random Forest Classifier is the best performing model, I will use it</li>"
   ]
  },
  {
   "cell_type": "markdown",
   "metadata": {},
   "source": [
    "#### Train the 3 models with 50% of the features"
   ]
  },
  {
   "cell_type": "code",
   "execution_count": 256,
   "metadata": {},
   "outputs": [],
   "source": [
    "# select features with top 50% MI scores\n",
    "selector = SP(percentile=50)\n",
    "selector.fit(X,y)\n",
    "X_1 = selector.transform(X)\n",
    "X_train_1,X_test_1,y_train,y_test = train_test_split(\n",
    "    X_1,y\n",
    "    ,random_state=0\n",
    "    ,stratify=y\n",
    ")\n",
    "\n",
    "# select features with top 70% MI scores\n",
    "selector = SP(percentile=70)\n",
    "selector.fit(X,y)\n",
    "X_2 = selector.transform(X)\n",
    "X_train_2,X_test_2,y_train,y_test = train_test_split(\n",
    "    X_2,y\n",
    "    ,random_state=23\n",
    "    ,stratify=y\n",
    ")\n",
    "\n",
    "\n",
    "# select features with top 75% MI scores\n",
    "selector = SP(percentile=75)\n",
    "selector.fit(X,y)\n",
    "X_3 = selector.transform(X)\n",
    "X_train_3,X_test_3,y_train,y_test = train_test_split(\n",
    "    X_3,y\n",
    "    ,random_state=9\n",
    "    ,stratify=y\n",
    ")\n",
    "\n",
    "# select features with top 80% MI scores\n",
    "selector = SP(percentile=80)\n",
    "selector.fit(X,y)\n",
    "X_4 = selector.transform(X)\n",
    "X_train_4,X_test_4,y_train,y_test = train_test_split(\n",
    "    X_4,y\n",
    "    ,random_state=89\n",
    "    ,stratify=y\n",
    ")\n",
    "\n",
    "\n",
    "# select features with top 100% MI scores (all features for easy comparison)\n",
    "selector = SP(percentile=95)\n",
    "selector.fit(X,y)\n",
    "X_5 = selector.transform(X)\n",
    "X_train_5,X_test_5,y_train,y_test = train_test_split(\n",
    "    X_5,y\n",
    "    ,random_state=3\n",
    "    ,stratify=y\n",
    ")"
   ]
  },
  {
   "cell_type": "code",
   "execution_count": 257,
   "metadata": {},
   "outputs": [
    {
     "name": "stdout",
     "output_type": "stream",
     "text": [
      "score_1:0.43243243243243246\n",
      " score_2:0.32432432432432434\n",
      " score_3:0.40540540540540543\n",
      " score_4:0.5405405405405406\n",
      " All features score:0.5135135135135135\n",
      "\n"
     ]
    }
   ],
   "source": [
    "#Run the models on the selected features and compare their performance\n",
    "rf_1 = RandomForestClassifier(n_estimators=100,n_jobs=-1).fit(X_train_1,y_train)\n",
    "rf_2 = RandomForestClassifier(n_estimators=100,n_jobs=-1).fit(X_train_2,y_train)\n",
    "rf_3 = RandomForestClassifier(n_estimators=100,n_jobs=-1).fit(X_train_3,y_train)\n",
    "rf_4 = RandomForestClassifier(n_estimators=100,n_jobs=-1).fit(X_train_4,y_train)\n",
    "rf_5 = RandomForestClassifier(n_estimators=100,n_jobs=-1).fit(X_train_5,y_train)\n",
    "\n",
    "#get the accuracies of each model\n",
    "score_1 = rf_1.score(X_test_1,y_test)\n",
    "score_2 = rf_2.score(X_test_2,y_test)\n",
    "score_3 = rf_3.score(X_test_3,y_test)\n",
    "score_4= rf_4.score(X_test_4,y_test)\n",
    "score_5 = rf_5.score(X_test_5,y_test)\n",
    "\n",
    "#print out the accuracies\n",
    "print(f\"score_1:{score_1}\\n score_2:{score_2}\\n score_3:{score_3}\\n score_4:{score_4}\\n All features score:{score_5}\\n\")"
   ]
  },
  {
   "cell_type": "markdown",
   "metadata": {},
   "source": [
    "Reducing the features reduces the model accuracy so I'll keep all the features \n"
   ]
  },
  {
   "cell_type": "code",
   "execution_count": 20,
   "metadata": {},
   "outputs": [],
   "source": [
    "# save the model to a pickle file\n",
    "pickle.dump(clf_rf, open('../models/model.pkl', 'wb'))"
   ]
  },
  {
   "cell_type": "code",
   "execution_count": null,
   "metadata": {},
   "outputs": [],
   "source": []
  }
 ],
 "metadata": {
  "kernelspec": {
   "display_name": "Python 3.9.13 ('venv': venv)",
   "language": "python",
   "name": "python3"
  },
  "language_info": {
   "codemirror_mode": {
    "name": "ipython",
    "version": 3
   },
   "file_extension": ".py",
   "mimetype": "text/x-python",
   "name": "python",
   "nbconvert_exporter": "python",
   "pygments_lexer": "ipython3",
   "version": "3.9.13"
  },
  "orig_nbformat": 4,
  "vscode": {
   "interpreter": {
    "hash": "654401863cc7c0fc4bcca2825f5df00b2b9e41ec88ea61f3b24b2088e395e7f3"
   }
  }
 },
 "nbformat": 4,
 "nbformat_minor": 2
}
